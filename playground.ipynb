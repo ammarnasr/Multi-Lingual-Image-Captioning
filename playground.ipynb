{
 "cells": [
  {
   "cell_type": "code",
   "execution_count": 1,
   "metadata": {},
   "outputs": [
    {
     "name": "stderr",
     "output_type": "stream",
     "text": [
      "100%|██████████| 14955/14955 [00:00<00:00, 450998.81it/s]\n"
     ]
    }
   ],
   "source": [
    "import os\n",
    "import pickle\n",
    "from tqdm import tqdm\n",
    "import json\n",
    "\n",
    "with open('arabic_laion_239006.pickle', 'rb') as f:\n",
    "    data = pickle.load(f)\n",
    "\n",
    "dir_path = './laion/part4/laion_5b_arabic_images'\n",
    "files = os.listdir(dir_path)\n",
    "captions = data['TEXT']\n",
    "data_items = []\n",
    "\n",
    "for file in tqdm(files):\n",
    "    item = {}\n",
    "    i = int(file[:-4])\n",
    "    item['image_id'] = file\n",
    "    item['caption'] = captions[i]\n",
    "    data_items.append(item)\n",
    "\n",
    "with open('./laion/data_part4.json', 'w') as f:\n",
    "    json.dump(data_items, f)"
   ]
  },
  {
   "cell_type": "code",
   "execution_count": 2,
   "metadata": {},
   "outputs": [
    {
     "name": "stdout",
     "output_type": "stream",
     "text": [
      "14955 captions loaded from json \n"
     ]
    },
    {
     "name": "stderr",
     "output_type": "stream",
     "text": [
      " 73%|███████▎  | 10845/14955 [09:15<03:32, 19.34it/s]c:\\Users\\Edin\\anaconda3\\envs\\mlp\\lib\\site-packages\\PIL\\TiffImagePlugin.py:858: UserWarning: Corrupt EXIF data.  Expecting to read 4 bytes but only got 0. \n",
      "  warnings.warn(str(msg))\n",
      " 96%|█████████▌| 14291/14955 [12:10<00:33, 19.56it/s]c:\\Users\\Edin\\anaconda3\\envs\\mlp\\lib\\site-packages\\PIL\\TiffImagePlugin.py:858: UserWarning: Corrupt EXIF data.  Expecting to read 4 bytes but only got 2. \n",
      "  warnings.warn(str(msg))\n",
      "100%|██████████| 14955/14955 [12:44<00:00, 19.57it/s]"
     ]
    },
    {
     "name": "stdout",
     "output_type": "stream",
     "text": [
      "Done\n",
      "14955 embeddings saved \n"
     ]
    },
    {
     "name": "stderr",
     "output_type": "stream",
     "text": [
      "\n"
     ]
    },
    {
     "data": {
      "text/plain": [
       "0"
      ]
     },
     "execution_count": 2,
     "metadata": {},
     "output_type": "execute_result"
    }
   ],
   "source": [
    "import torch\n",
    "import skimage.io as io\n",
    "import clip\n",
    "from PIL import Image\n",
    "import pickle\n",
    "import json\n",
    "import os\n",
    "from tqdm import tqdm\n",
    "import argparse\n",
    "\n",
    "\n",
    "def main(clip_model_type: str):\n",
    "    device = torch.device('cuda:0')\n",
    "    clip_model_name = clip_model_type.replace('/', '_')\n",
    "    out_path = f\"./laion/laion_part4_{clip_model_name}_train.pkl\"\n",
    "    clip_model, preprocess = clip.load(clip_model_type, device=device, jit=False)\n",
    "    with open('laion\\data_part4.json', 'r') as f:\n",
    "        data = json.load(f)\n",
    "    print(\"%0d captions loaded from json \" % len(data))\n",
    "    all_embeddings = []\n",
    "    all_captions = []\n",
    "    for i in tqdm(range(len(data))):\n",
    "        d = data[i]\n",
    "        img_id = d[\"image_id\"]\n",
    "        filename = f\"./laion/part4/laion_5b_arabic_images/{img_id}\"\n",
    "        image = io.imread(filename)\n",
    "        image = preprocess(Image.fromarray(image)).unsqueeze(0).to(device)\n",
    "        with torch.no_grad():\n",
    "            prefix = clip_model.encode_image(image).cpu()\n",
    "        d[\"clip_embedding\"] = i\n",
    "        all_embeddings.append(prefix)\n",
    "        all_captions.append(d)\n",
    "        if (i + 1) % 10000 == 0:\n",
    "            with open(out_path, 'wb') as f:\n",
    "                pickle.dump({\"clip_embedding\": torch.cat(all_embeddings, dim=0), \"captions\": all_captions}, f)\n",
    "\n",
    "    with open(out_path, 'wb') as f:\n",
    "        pickle.dump({\"clip_embedding\": torch.cat(all_embeddings, dim=0), \"captions\": all_captions}, f)\n",
    "\n",
    "    print('Done')\n",
    "    print(\"%0d embeddings saved \" % len(all_embeddings))\n",
    "    return 0\n",
    "\n",
    "\n",
    "clip_model_type=\"ViT-B/32\"\n",
    "main(clip_model_type)"
   ]
  },
  {
   "cell_type": "code",
   "execution_count": null,
   "metadata": {},
   "outputs": [],
   "source": []
  },
  {
   "cell_type": "code",
   "execution_count": null,
   "metadata": {},
   "outputs": [],
   "source": []
  },
  {
   "cell_type": "code",
   "execution_count": null,
   "metadata": {},
   "outputs": [],
   "source": []
  },
  {
   "cell_type": "code",
   "execution_count": null,
   "metadata": {},
   "outputs": [],
   "source": [
    "from dataset import ClipGPTLaion5bArabicDataset"
   ]
  },
  {
   "cell_type": "code",
   "execution_count": null,
   "metadata": {},
   "outputs": [],
   "source": [
    "ds = ClipGPTLaion5bArabicDataset('laion\\laion_part4_ViT-B_32_train.pkl', 10)"
   ]
  },
  {
   "cell_type": "code",
   "execution_count": null,
   "metadata": {},
   "outputs": [],
   "source": []
  }
 ],
 "metadata": {
  "kernelspec": {
   "display_name": "mlp",
   "language": "python",
   "name": "python3"
  },
  "language_info": {
   "codemirror_mode": {
    "name": "ipython",
    "version": 3
   },
   "file_extension": ".py",
   "mimetype": "text/x-python",
   "name": "python",
   "nbconvert_exporter": "python",
   "pygments_lexer": "ipython3",
   "version": "3.9.16"
  },
  "orig_nbformat": 4,
  "vscode": {
   "interpreter": {
    "hash": "15a1108c086910f85ca4baff738b45dae52df791633b9cd1b62a05e2975e2a2a"
   }
  }
 },
 "nbformat": 4,
 "nbformat_minor": 2
}

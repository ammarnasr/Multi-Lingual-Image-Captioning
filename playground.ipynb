{
 "cells": [
  {
   "cell_type": "code",
   "execution_count": 1,
   "metadata": {},
   "outputs": [
    {
     "name": "stdout",
     "output_type": "stream",
     "text": [
      "The Lang is english\n"
     ]
    },
    {
     "ename": "RuntimeError",
     "evalue": "Invalid magic number; corrupt file?",
     "output_type": "error",
     "traceback": [
      "\u001b[1;31m---------------------------------------------------------------------------\u001b[0m",
      "\u001b[1;31mRuntimeError\u001b[0m                              Traceback (most recent call last)",
      "Cell \u001b[1;32mIn[1], line 3\u001b[0m\n\u001b[0;32m      1\u001b[0m \u001b[39mfrom\u001b[39;00m \u001b[39minference_gpt\u001b[39;00m \u001b[39mimport\u001b[39;00m main \u001b[39mas\u001b[39;00m inference\n\u001b[1;32m----> 3\u001b[0m inference(\u001b[39m'\u001b[39;49m\u001b[39m./checkpoints/transformer_prefix_english-009_args.pkl\u001b[39;49m\u001b[39m'\u001b[39;49m)\n",
      "File \u001b[1;32mc:\\Users\\Edin\\OneDrive - University of Edinburgh\\Study\\Sem1\\MLP\\Asgs\\CW4\\Multi-Lingual-Image-Captioning\\inference_gpt.py:125\u001b[0m, in \u001b[0;36mmain\u001b[1;34m(model_path)\u001b[0m\n\u001b[0;32m    122\u001b[0m     tokenizer \u001b[39m=\u001b[39m GPT2Tokenizer\u001b[39m.\u001b[39mfrom_pretrained(\u001b[39m\"\u001b[39m\u001b[39mgpt2\u001b[39m\u001b[39m\"\u001b[39m)\n\u001b[0;32m    124\u001b[0m \u001b[39m# Load the GPT model\u001b[39;00m\n\u001b[1;32m--> 125\u001b[0m model, prefix_length \u001b[39m=\u001b[39m load_model(model_path)\n\u001b[0;32m    126\u001b[0m model\u001b[39m.\u001b[39meval()\n\u001b[0;32m    127\u001b[0m model \u001b[39m=\u001b[39m model\u001b[39m.\u001b[39mto(device)\n",
      "File \u001b[1;32mc:\\Users\\Edin\\OneDrive - University of Edinburgh\\Study\\Sem1\\MLP\\Asgs\\CW4\\Multi-Lingual-Image-Captioning\\inference_gpt.py:28\u001b[0m, in \u001b[0;36mload_model\u001b[1;34m(model_path)\u001b[0m\n\u001b[0;32m     20\u001b[0m     args \u001b[39m=\u001b[39m pickle\u001b[39m.\u001b[39mload(f)\n\u001b[0;32m     21\u001b[0m model \u001b[39m=\u001b[39m ClipCaptionPrefix(\n\u001b[0;32m     22\u001b[0m     prefix_length\u001b[39m=\u001b[39margs\u001b[39m.\u001b[39mprefix_length,\n\u001b[0;32m     23\u001b[0m     lang \u001b[39m=\u001b[39m args\u001b[39m.\u001b[39mlang ,\n\u001b[1;32m   (...)\u001b[0m\n\u001b[0;32m     26\u001b[0m     num_layers\u001b[39m=\u001b[39margs\u001b[39m.\u001b[39mnum_layers,\n\u001b[0;32m     27\u001b[0m     mapping_type\u001b[39m=\u001b[39margs\u001b[39m.\u001b[39mmapping_type)\n\u001b[1;32m---> 28\u001b[0m model\u001b[39m.\u001b[39mload_state_dict(torch\u001b[39m.\u001b[39;49mload(model_path, map_location\u001b[39m=\u001b[39;49m\u001b[39m'\u001b[39;49m\u001b[39mcpu\u001b[39;49m\u001b[39m'\u001b[39;49m))\n\u001b[0;32m     29\u001b[0m \u001b[39mreturn\u001b[39;00m model , args\u001b[39m.\u001b[39mprefix_length\n",
      "File \u001b[1;32mc:\\Users\\Edin\\anaconda3\\envs\\mlp\\lib\\site-packages\\torch\\serialization.py:795\u001b[0m, in \u001b[0;36mload\u001b[1;34m(f, map_location, pickle_module, weights_only, **pickle_load_args)\u001b[0m\n\u001b[0;32m    793\u001b[0m     \u001b[39mexcept\u001b[39;00m \u001b[39mRuntimeError\u001b[39;00m \u001b[39mas\u001b[39;00m e:\n\u001b[0;32m    794\u001b[0m         \u001b[39mraise\u001b[39;00m pickle\u001b[39m.\u001b[39mUnpicklingError(UNSAFE_MESSAGE \u001b[39m+\u001b[39m \u001b[39mstr\u001b[39m(e)) \u001b[39mfrom\u001b[39;00m \u001b[39mNone\u001b[39m\n\u001b[1;32m--> 795\u001b[0m \u001b[39mreturn\u001b[39;00m _legacy_load(opened_file, map_location, pickle_module, \u001b[39m*\u001b[39m\u001b[39m*\u001b[39mpickle_load_args)\n",
      "File \u001b[1;32mc:\\Users\\Edin\\anaconda3\\envs\\mlp\\lib\\site-packages\\torch\\serialization.py:1004\u001b[0m, in \u001b[0;36m_legacy_load\u001b[1;34m(f, map_location, pickle_module, **pickle_load_args)\u001b[0m\n\u001b[0;32m   1002\u001b[0m magic_number \u001b[39m=\u001b[39m pickle_module\u001b[39m.\u001b[39mload(f, \u001b[39m*\u001b[39m\u001b[39m*\u001b[39mpickle_load_args)\n\u001b[0;32m   1003\u001b[0m \u001b[39mif\u001b[39;00m magic_number \u001b[39m!=\u001b[39m MAGIC_NUMBER:\n\u001b[1;32m-> 1004\u001b[0m     \u001b[39mraise\u001b[39;00m \u001b[39mRuntimeError\u001b[39;00m(\u001b[39m\"\u001b[39m\u001b[39mInvalid magic number; corrupt file?\u001b[39m\u001b[39m\"\u001b[39m)\n\u001b[0;32m   1005\u001b[0m protocol_version \u001b[39m=\u001b[39m pickle_module\u001b[39m.\u001b[39mload(f, \u001b[39m*\u001b[39m\u001b[39m*\u001b[39mpickle_load_args)\n\u001b[0;32m   1006\u001b[0m \u001b[39mif\u001b[39;00m protocol_version \u001b[39m!=\u001b[39m PROTOCOL_VERSION:\n",
      "\u001b[1;31mRuntimeError\u001b[0m: Invalid magic number; corrupt file?"
     ]
    }
   ],
   "source": [
    "from inference_gpt import main as inference\n",
    "\n",
    "inference('./checkpoints/transformer_prefix_english-009_args.pkl')"
   ]
  },
  {
   "cell_type": "code",
   "execution_count": null,
   "metadata": {},
   "outputs": [],
   "source": []
  },
  {
   "cell_type": "code",
   "execution_count": null,
   "metadata": {},
   "outputs": [],
   "source": []
  },
  {
   "cell_type": "code",
   "execution_count": null,
   "metadata": {},
   "outputs": [],
   "source": []
  },
  {
   "cell_type": "code",
   "execution_count": null,
   "metadata": {},
   "outputs": [],
   "source": []
  },
  {
   "cell_type": "code",
   "execution_count": null,
   "metadata": {},
   "outputs": [],
   "source": []
  }
 ],
 "metadata": {
  "kernelspec": {
   "display_name": "mlp",
   "language": "python",
   "name": "python3"
  },
  "language_info": {
   "codemirror_mode": {
    "name": "ipython",
    "version": 3
   },
   "file_extension": ".py",
   "mimetype": "text/x-python",
   "name": "python",
   "nbconvert_exporter": "python",
   "pygments_lexer": "ipython3",
   "version": "3.9.16"
  },
  "orig_nbformat": 4,
  "vscode": {
   "interpreter": {
    "hash": "15a1108c086910f85ca4baff738b45dae52df791633b9cd1b62a05e2975e2a2a"
   }
  }
 },
 "nbformat": 4,
 "nbformat_minor": 2
}

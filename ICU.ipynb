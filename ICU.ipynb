{
  "cells": [
    {
      "cell_type": "code",
      "execution_count": null,
      "metadata": {
        "id": "fsOqabGkz3iy"
      },
      "outputs": [],
      "source": [
        "!pip -q install --upgrade --no-cache-dir gdown\n",
        "!pip -q install transformers\n",
        "!pip -q install multilingual-clip\n",
        "!pip -q install ftfy regex tqdm\n",
        "!pip -q install git+https://github.com/openai/CLIP.git\n",
        "!pip -q install pandas -U\n",
        "!pip -q install arabic-reshaper\n",
        "!pip -q install python-bidi"
      ]
    },
    {
      "cell_type": "code",
      "execution_count": null,
      "metadata": {
        "id": "E-NpDsVxmOyE"
      },
      "outputs": [],
      "source": [
        "!git clone https://github.com/ammarnasr/Multi-Lingual-Image-Captioning.git\n",
        "\n",
        "### Download Training Data ###\n",
        "!gdown --id 1iDxE8sDyVwBrbxdjn3LAbaRSUsiI1alU\n",
        "!unzip -qq /content/data.zip -d /content/Multi-Lingual-Image-Captioning\n",
        "!rm /content/data.zip\n",
        "\n",
        "### Download Latest Checkpoints ###\n",
        "!gdown --id 1bxel0T_FiNJWf5NjiT4cVX7HnFqjEWF1\n",
        "!unzip -qq /content/checkpoints.zip -d /content/Multi-Lingual-Image-Captioning\n",
        "!rm /content/checkpoints.zip\n"
      ]
    },
    {
      "cell_type": "code",
      "execution_count": null,
      "metadata": {
        "id": "q9nOiXDGhT_z"
      },
      "outputs": [],
      "source": [
        "from google.colab import drive\n",
        "drive.mount('/content/drive')"
      ]
    },
    {
      "cell_type": "code",
      "execution_count": null,
      "metadata": {
        "id": "x6jKSm8N0UgO"
      },
      "outputs": [],
      "source": [
        "from os import listdir\n",
        "from os.path import isfile, join\n",
        "import shutil\n",
        "import os\n",
        "os.chdir('/content/Multi-Lingual-Image-Captioning')\n",
        "os.getcwd()\n",
        "\n",
        "\n",
        "\n",
        "def copy_ckpts():  \n",
        "  '''Copy Saved Checkpoints from Colab to drive/MyDrive/Multi-Lingual-Image-Captioning/checkpoints'''\n",
        "  checkpoints_dir = './checkpoints'\n",
        "  checkpoints_dir_drive = '/content/drive/MyDrive/Multi-Lingual-Image-Captioning/checkpoints'\n",
        "  ckpt_files = [f for f in listdir(checkpoints_dir) if isfile(join(checkpoints_dir, f))]\n",
        "  for ckpt_file in ckpt_files :\n",
        "    src = join(checkpoints_dir, ckpt_file)\n",
        "    dst = join(checkpoints_dir_drive, ckpt_file)\n",
        "    shutil.copyfile(src, dst)\n",
        "\n"
      ]
    },
    {
      "cell_type": "code",
      "execution_count": null,
      "metadata": {
        "id": "CX4p91blCw51"
      },
      "outputs": [],
      "source": [
        "# import preprocess\n",
        "# from dataset import ClipGPTFlickr8kDataset\n",
        "\n",
        "# # Preprocess Data (Data already saved to drive no need to run)\n",
        "# preprocess.create_CLIP_embeddings_for_images(lang='arabic')\n",
        "# preprocess.create_CLIP_embeddings_for_images(lang='english')\n",
        "# dataset = ClipGPTFlickr8kDataset('./data/embeddings/arabic_CLIP-ViT-B-32_embeddings.pkl','arabic', 10)\n",
        "# dataset = ClipGPTFlickr8kDataset('./data/embeddings/english_CLIP-ViT-B-32_embeddings.pkl','english', 10)\n"
      ]
    },
    {
      "cell_type": "code",
      "execution_count": null,
      "metadata": {
        "colab": {
          "base_uri": "https://localhost:8080/"
        },
        "id": "xEI6MwTNiDMo",
        "outputId": "92861382-c238-4e9f-cbc8-838e8ff843f6"
      },
      "outputs": [],
      "source": [
        "######## Edit The Parameters and run the code to start exprimpent  #####\n",
        "exp_args = '''\n",
        "\n",
        "#create a class called demo args to store the arguments\n",
        "class DemoArgs:\n",
        "    def __init__(self):\n",
        "        self.data = './data/embeddings/arabic_CLIP-ViT-B-32_embeddings.pkl'\n",
        "        self.lang = 'arabic'\n",
        "        self.out_dir = './checkpoints'\n",
        "        self.output_prefix = 'arabic_exp_2'\n",
        "        self.epochs = 10\n",
        "        self.save_every = 5\n",
        "        self.prefix_length = 10\n",
        "        self.prefix_length_clip = 10\n",
        "        self.bs = 100\n",
        "        self.only_prefix = True\n",
        "        self.mapping_type = 'transformer'\n",
        "        self.num_layers = 8\n",
        "        self.is_rn = False\n",
        "        self.normalize_prefix = False\n",
        "        self.get_bleu = False\n",
        "'''\n",
        "with open('args.py', 'w') as f:\n",
        "    f.write(exp_args)\n",
        "    \n",
        "    \n",
        "\n",
        "\n",
        "### Train From Scratch ###\n",
        "# !python train_gpt.py \n",
        "\n",
        "### Contiue from avialabe checkpoint ###\n",
        "!python train_gpt.py ./checkpoints/arabic_exp_2-015.pt\n",
        "\n",
        "\n",
        "copy_ckpts()"
      ]
    },
    {
      "cell_type": "code",
      "execution_count": null,
      "metadata": {
        "id": "-sYHlm12A63S"
      },
      "outputs": [],
      "source": [
        "######## Run Inference On Sample Images ################\n",
        "# import inference_gpt\n",
        "# ckpt_path = '/content/Multi-Lingual-Image-Captioning/checkpoints/arabic_exp_1-029.pt'\n",
        "# inference_gpt.main(ckpt_path)"
      ]
    },
    {
      "cell_type": "code",
      "execution_count": null,
      "metadata": {
        "id": "fcMPlwe3J1qs"
      },
      "outputs": [],
      "source": []
    },
    {
      "cell_type": "code",
      "execution_count": null,
      "metadata": {
        "id": "Twb1pHk8KbN7"
      },
      "outputs": [],
      "source": []
    }
  ],
  "metadata": {
    "accelerator": "GPU",
    "colab": {
      "provenance": []
    },
    "gpuClass": "standard",
    "kernelspec": {
      "display_name": "Python 3",
      "name": "python3"
    },
    "language_info": {
      "name": "python"
    }
  },
  "nbformat": 4,
  "nbformat_minor": 0
}
